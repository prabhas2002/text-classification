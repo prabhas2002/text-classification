{
 "cells": [
  {
   "cell_type": "code",
   "execution_count": 1,
   "metadata": {},
   "outputs": [],
   "source": [
    "import numpy as np\n",
    "import pandas as pd\n",
    "import torch\n",
    "import matplotlib.pyplot as plt\n",
    "import seaborn as sns\n",
    "import math"
   ]
  },
  {
   "cell_type": "code",
   "execution_count": 2,
   "metadata": {},
   "outputs": [],
   "source": [
    "pd.options.mode.chained_assignment = None  # default='warn'"
   ]
  },
  {
   "cell_type": "code",
   "execution_count": 3,
   "metadata": {},
   "outputs": [],
   "source": [
    "df=pd.read_csv('Reviews.csv')"
   ]
  },
  {
   "cell_type": "code",
   "execution_count": 4,
   "metadata": {},
   "outputs": [],
   "source": [
    "df_new=df[['Summary','Score']]"
   ]
  },
  {
   "cell_type": "code",
   "execution_count": 5,
   "metadata": {},
   "outputs": [
    {
     "data": {
      "text/html": [
       "<div>\n",
       "<style scoped>\n",
       "    .dataframe tbody tr th:only-of-type {\n",
       "        vertical-align: middle;\n",
       "    }\n",
       "\n",
       "    .dataframe tbody tr th {\n",
       "        vertical-align: top;\n",
       "    }\n",
       "\n",
       "    .dataframe thead th {\n",
       "        text-align: right;\n",
       "    }\n",
       "</style>\n",
       "<table border=\"1\" class=\"dataframe\">\n",
       "  <thead>\n",
       "    <tr style=\"text-align: right;\">\n",
       "      <th></th>\n",
       "      <th>Summary</th>\n",
       "      <th>Score</th>\n",
       "    </tr>\n",
       "  </thead>\n",
       "  <tbody>\n",
       "    <tr>\n",
       "      <th>0</th>\n",
       "      <td>Good Quality Dog Food</td>\n",
       "      <td>5</td>\n",
       "    </tr>\n",
       "    <tr>\n",
       "      <th>1</th>\n",
       "      <td>Not as Advertised</td>\n",
       "      <td>1</td>\n",
       "    </tr>\n",
       "    <tr>\n",
       "      <th>2</th>\n",
       "      <td>\"Delight\" says it all</td>\n",
       "      <td>4</td>\n",
       "    </tr>\n",
       "    <tr>\n",
       "      <th>3</th>\n",
       "      <td>Cough Medicine</td>\n",
       "      <td>2</td>\n",
       "    </tr>\n",
       "    <tr>\n",
       "      <th>4</th>\n",
       "      <td>Great taffy</td>\n",
       "      <td>5</td>\n",
       "    </tr>\n",
       "  </tbody>\n",
       "</table>\n",
       "</div>"
      ],
      "text/plain": [
       "                 Summary  Score\n",
       "0  Good Quality Dog Food      5\n",
       "1      Not as Advertised      1\n",
       "2  \"Delight\" says it all      4\n",
       "3         Cough Medicine      2\n",
       "4            Great taffy      5"
      ]
     },
     "execution_count": 5,
     "metadata": {},
     "output_type": "execute_result"
    }
   ],
   "source": [
    "df_new.head()"
   ]
  },
  {
   "cell_type": "code",
   "execution_count": 6,
   "metadata": {},
   "outputs": [],
   "source": [
    "df_new['Score'].replace({1: 'negative', 2: 'negative', 3: 'neutral', 4: 'positive', 5: 'positive'}, inplace=True)"
   ]
  },
  {
   "cell_type": "code",
   "execution_count": 7,
   "metadata": {},
   "outputs": [
    {
     "data": {
      "text/plain": [
       "positive    443777\n",
       "negative     82037\n",
       "neutral      42640\n",
       "Name: Score, dtype: int64"
      ]
     },
     "execution_count": 7,
     "metadata": {},
     "output_type": "execute_result"
    }
   ],
   "source": [
    "df_new['Score'].value_counts()"
   ]
  },
  {
   "cell_type": "code",
   "execution_count": 8,
   "metadata": {},
   "outputs": [],
   "source": [
    "#df_new.dropna(subset=['Summary'], inplace=True)\n",
    "df_new['Summary'].fillna('This is replaced', inplace=True)"
   ]
  },
  {
   "cell_type": "code",
   "execution_count": 9,
   "metadata": {},
   "outputs": [
    {
     "data": {
      "text/plain": [
       "Summary    0\n",
       "Score      0\n",
       "dtype: int64"
      ]
     },
     "execution_count": 9,
     "metadata": {},
     "output_type": "execute_result"
    }
   ],
   "source": [
    "df_new.isnull().sum()"
   ]
  },
  {
   "cell_type": "code",
   "execution_count": 10,
   "metadata": {},
   "outputs": [],
   "source": [
    "df_new['Summary'] = df_new['Summary'].str.lower()"
   ]
  },
  {
   "cell_type": "code",
   "execution_count": 11,
   "metadata": {},
   "outputs": [],
   "source": [
    "#spliting data into train,validation,test datasets\n",
    "X_tr=df_new.loc[:0.8*(len(df_new)),'Summary']\n",
    "Y_tr=df_new.loc[:0.8*(len(df_new)),'Score']\n",
    "X_dev=df_new.loc[0.8*(len(df_new)):0.9*(len(df_new)),'Summary']\n",
    "Y_dev=df_new.loc[0.8*(len(df_new)):0.9*(len(df_new)),'Score']\n",
    "X_te=df_new.loc[0.9*(len(df_new)):,'Summary']\n",
    "Y_te=df_new.loc[0.9*(len(df_new)):,'Score']"
   ]
  },
  {
   "cell_type": "code",
   "execution_count": 12,
   "metadata": {},
   "outputs": [
    {
     "data": {
      "text/plain": [
       "((454764,), (454764,), (56845,), (56845,), (56845,), (56845,))"
      ]
     },
     "execution_count": 12,
     "metadata": {},
     "output_type": "execute_result"
    }
   ],
   "source": [
    "X_tr.shape,Y_tr.shape,  X_dev.shape,Y_dev.shape,   X_te.shape,Y_te.shape"
   ]
  },
  {
   "cell_type": "code",
   "execution_count": 13,
   "metadata": {},
   "outputs": [],
   "source": [
    "#naive bayes classification"
   ]
  },
  {
   "cell_type": "code",
   "execution_count": 14,
   "metadata": {},
   "outputs": [],
   "source": [
    "#data understanding\n",
    "dicts={}\n",
    "for i in X_tr:\n",
    "    words=i.split()\n",
    "    for word in words:\n",
    "        try:\n",
    "            if word not in dicts:\n",
    "                dicts[word]=1\n",
    "            else:\n",
    "                dicts[word]+=1    \n",
    "        except:\n",
    "            pass"
   ]
  },
  {
   "cell_type": "code",
   "execution_count": 15,
   "metadata": {},
   "outputs": [],
   "source": [
    "filtered_li=list(dicts.keys())\n",
    "for i in filtered_li:\n",
    "    if dicts[i] < 100:\n",
    "        dicts.pop(i)\n"
   ]
  },
  {
   "cell_type": "code",
   "execution_count": 16,
   "metadata": {},
   "outputs": [
    {
     "data": {
      "text/plain": [
       "<matplotlib.axes._subplots.AxesSubplot at 0x22e99d3a550>"
      ]
     },
     "execution_count": 16,
     "metadata": {},
     "output_type": "execute_result"
    },
    {
     "data": {
      "image/png": "[encoded data removed]",
      "text/plain": [
       "<Figure size 432x288 with 1 Axes>"
      ]
     },
     "metadata": {},
     "output_type": "display_data"
    }
   ],
   "source": [
    "sns.countplot(list(dicts.values())) #many words are less frequent and only some words are more frequent."
   ]
  },
  {
   "cell_type": "code",
   "execution_count": 17,
   "metadata": {},
   "outputs": [
    {
     "data": {
      "text/plain": [
       "1757"
      ]
     },
     "execution_count": 17,
     "metadata": {},
     "output_type": "execute_result"
    }
   ],
   "source": [
    "len(dicts) #vocabulary size"
   ]
  },
  {
   "cell_type": "code",
   "execution_count": 18,
   "metadata": {},
   "outputs": [],
   "source": [
    "#inits\n",
    "positive_prob={}\n",
    "negative_prob={}\n",
    "neutral_prob={}\n",
    "pos=0\n",
    "neg=0\n",
    "neu=0\n",
    "alpha=1 #for smoothing"
   ]
  },
  {
   "cell_type": "code",
   "execution_count": 19,
   "metadata": {},
   "outputs": [
    {
     "name": "stdout",
     "output_type": "stream",
     "text": [
      "training accuracy is 0.7327690846241127\n"
     ]
    }
   ],
   "source": [
    "#traing loop\n",
    "for j in range(len(X_tr)):\n",
    "\n",
    "    words=X_tr[j].split()\n",
    "    for word in words:\n",
    "        if word not in positive_prob:\n",
    "            positive_prob[word]=0+alpha\n",
    "        if word not in negative_prob:\n",
    "            negative_prob[word]=0+alpha\n",
    "        if word not in neutral_prob:\n",
    "            neutral_prob[word]=0+alpha\n",
    "\n",
    "        if Y_tr[j]=='positive':\n",
    "            positive_prob[word]+=1 \n",
    "            pos+=1\n",
    "\n",
    "        elif Y_tr[j]=='negative':\n",
    "            negative_prob[word]+=1 \n",
    "            neg+=1\n",
    "        else:\n",
    "            neutral_prob[word]+=1        \n",
    "            neu+=1\n",
    "\n",
    "#computing probabilities\n",
    "pos_prob= {key: value / (pos+alpha) for key, value in positive_prob.items()}\n",
    "neg_prob= {key: value / (neg+alpha) for key, value in negative_prob.items()}\n",
    "neu_prob= {key: value / (neu+alpha) for key, value in neutral_prob.items()}\n",
    "\n",
    "\n",
    "y_pred=[]\n",
    "\n",
    "for j in X_tr:\n",
    "    words=j.split()\n",
    "    p=1\n",
    "    n=1\n",
    "    nu=1\n",
    "    for i in words:\n",
    "        p*=pos_prob[i]  #assuming condinal independance between words\n",
    "        n*=neg_prob[i]\n",
    "        nu*=neu_prob[i]\n",
    "    temp=max(p,n,nu)\n",
    "    if temp==p:\n",
    "        res='positive'\n",
    "    elif temp==n:\n",
    "        res= 'negative'\n",
    "    else:\n",
    "        res='neutral'\n",
    "    y_pred.append(res)\n",
    "\n",
    "#accuracy for data\n",
    "pred=0\n",
    "for i in range(len(Y_tr)):\n",
    "    if Y_tr[i]==y_pred[i]:\n",
    "        pred+=1\n",
    "\n",
    "accuracy=pred/len(X_tr)\n",
    "print('training accuracy is {0}'.format(accuracy))"
   ]
  },
  {
   "cell_type": "code",
   "execution_count": 20,
   "metadata": {},
   "outputs": [
    {
     "name": "stdout",
     "output_type": "stream",
     "text": [
      "testing accuracy is 0.7298091300905972\n"
     ]
    }
   ],
   "source": [
    "#test accuracy\n",
    "y_pred=[]\n",
    "ground=Y_te.tolist()\n",
    "for j in X_te:\n",
    "    words=j.split()\n",
    "    p=1\n",
    "    n=1\n",
    "    nu=1\n",
    "    for i in words:\n",
    "        if i not in pos_prob:   #ignoring new words in test time\n",
    "            pass\n",
    "        else:\n",
    "            p*=pos_prob[i]\n",
    "            n*=neg_prob[i]\n",
    "            nu*=neu_prob[i]\n",
    "    temp=max(p,n,nu)\n",
    "    if temp==p:\n",
    "        res='positive'\n",
    "    elif temp==n:\n",
    "        res= 'negative'\n",
    "    else:\n",
    "        res='neutral'\n",
    "    y_pred.append(res)\n",
    "\n",
    "#accuracy for data\n",
    "pred=0\n",
    "for i in range(len(Y_te)):\n",
    "    if ground[i]==y_pred[i]:\n",
    "        pred+=1\n",
    "\n",
    "accuracy=pred/len(X_te)\n",
    "print('testing accuracy is {0}'.format(accuracy)) #model is working fine on unseen data also."
   ]
  },
  {
   "cell_type": "code",
   "execution_count": 30,
   "metadata": {},
   "outputs": [
    {
     "name": "stdout",
     "output_type": "stream",
     "text": [
      "enter -1 to stop giving input\n",
      "enter review :very bad experience with this ,do not order\n",
      "The given review is negative\n",
      "\n",
      "\n",
      "enter review :this is super fantastic and cool\n",
      "The given review is positive\n",
      "\n",
      "\n",
      "enter review :product is satisfactory and okay\n",
      "The given review is neutral\n",
      "\n",
      "\n",
      "enter review :-1\n"
     ]
    }
   ],
   "source": [
    "#custom input review\n",
    "print('enter -1 to stop giving input')\n",
    "bo=True\n",
    "while(bo):\n",
    "    p=1\n",
    "    n=1\n",
    "    nu=1\n",
    "    test=input('enter review :')\n",
    "    if(test=='-1'):\n",
    "        break\n",
    "    test=test.lower().split()\n",
    "    for i in test:\n",
    "            if i not in pos_prob:\n",
    "                pass  \n",
    "            else:\n",
    "                p*=pos_prob[i]  \n",
    "                n*=neg_prob[i]\n",
    "                nu*=neu_prob[i]\n",
    "\n",
    "    temp=max(p,n,nu)\n",
    "\n",
    "\n",
    "    if temp==p:\n",
    "        res='positive'\n",
    "    elif temp==n:\n",
    "        res= 'negative'\n",
    "    elif temp==nu:\n",
    "        res='neutral'\n",
    "        \n",
    "    print('The given review is {0}'.format(res))\n",
    "    print()\n",
    "    print()"
   ]
  },
  {
   "cell_type": "code",
   "execution_count": 22,
   "metadata": {},
   "outputs": [],
   "source": [
    "# positive_prob={}\n",
    "# negative_prob={}\n",
    "# neutral_prob={}"
   ]
  },
  {
   "cell_type": "code",
   "execution_count": 23,
   "metadata": {},
   "outputs": [],
   "source": [
    "# pos=0\n",
    "# neg=0\n",
    "# neu=0"
   ]
  },
  {
   "cell_type": "code",
   "execution_count": 24,
   "metadata": {},
   "outputs": [],
   "source": [
    "# for j in range(len(X_tr)):\n",
    "#     words=X_tr[j].split()\n",
    "#     for word in words:\n",
    "#         if word not in positive_prob:\n",
    "#             positive_prob[word]=0\n",
    "#         if word not in negative_prob:\n",
    "#             negative_prob[word]=0\n",
    "#         if word not in neutral_prob:\n",
    "#             neutral_prob[word]=0\n",
    "            \n",
    "#         if Y_tr[j]=='positive':\n",
    "#             positive_prob[word]+=1 \n",
    "#             pos+=1\n",
    "           \n",
    "#         elif Y_tr[j]=='negative':\n",
    "#             negative_prob[word]+=1 \n",
    "#             neg+=1\n",
    "#         else:\n",
    "#             neutral_prob[word]+=1        \n",
    "#             neu+=1"
   ]
  },
  {
   "cell_type": "code",
   "execution_count": 25,
   "metadata": {},
   "outputs": [],
   "source": [
    "# pos_prob= {key: value / (pos) for key, value in positive_prob.items()}\n",
    "# neg_prob= {key: value / (neg) for key, value in negative_prob.items()}\n",
    "# neu_prob= {key: value / (neu) for key, value in neutral_prob.items()}"
   ]
  },
  {
   "cell_type": "code",
   "execution_count": 26,
   "metadata": {},
   "outputs": [],
   "source": [
    "# len(pos_prob),len(neg_prob),len(neu_prob)"
   ]
  },
  {
   "cell_type": "code",
   "execution_count": 27,
   "metadata": {},
   "outputs": [],
   "source": [
    "# sum(pos_prob.values())"
   ]
  },
  {
   "cell_type": "code",
   "execution_count": 28,
   "metadata": {},
   "outputs": [],
   "source": [
    "# sum(neg_prob.values())"
   ]
  },
  {
   "cell_type": "code",
   "execution_count": 29,
   "metadata": {},
   "outputs": [],
   "source": [
    "# sum(neu_prob.values())"
   ]
  }
 ],
 "metadata": {
  "kernelspec": {
   "display_name": "Python 3",
   "language": "python",
   "name": "python3"
  },
  "language_info": {
   "codemirror_mode": {
    "name": "ipython",
    "version": 3
   },
   "file_extension": ".py",
   "mimetype": "text/x-python",
   "name": "python",
   "nbconvert_exporter": "python",
   "pygments_lexer": "ipython3",
   "version": "3.6.5"
  }
 },
 "nbformat": 4,
 "nbformat_minor": 2
}
